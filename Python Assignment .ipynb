{
 "cells": [
  {
   "cell_type": "markdown",
   "metadata": {
    "colab_type": "text",
    "id": "l0ZzOlyxB-kf"
   },
   "source": [
    "<h1>Python: without numpy or sklearn </h1>"
   ]
  },
  {
   "cell_type": "code",
   "execution_count": 1,
   "metadata": {},
   "outputs": [],
   "source": [
    "import numpy as np\n",
    "import pandas as pd"
   ]
  },
  {
   "cell_type": "markdown",
   "metadata": {
    "colab_type": "text",
    "id": "C0xO8JV9B-ki"
   },
   "source": [
    "<h3> Q1: Given two matrices please print the product of those two matrices </h3>\n",
    "<pre>\n",
    "\n",
    "Ex 1: A   = [[1 3 4]\n",
    "             [2 5 7]\n",
    "             [5 9 6]]\n",
    "      B   = [[1 0 0]\n",
    "             [0 1 0]\n",
    "             [0 0 1]]\n",
    "      A*B = [[1 3 4]\n",
    "             [2 5 7]\n",
    "             [5 9 6]]\n",
    "\n",
    "     \n",
    "Ex 2: A   = [[1 2]\n",
    "             [3 4]]\n",
    "      B   = [[1 2 3 4 5]\n",
    "             [5 6 7 8 9]]\n",
    "      A*B = [[11 14 17 20 23]\n",
    "             [23 30 37 44 51]]\n",
    "             \n",
    "Ex 3: A   = [[1 2]\n",
    "             [3 4]]\n",
    "      B   = [[1 4]\n",
    "             [5 6]\n",
    "             [7 8]\n",
    "             [9 6]]\n",
    "      A*B =Not possible\n",
    "</pre>"
   ]
  },
  {
   "cell_type": "code",
   "execution_count": 2,
   "metadata": {},
   "outputs": [
    {
     "data": {
      "text/plain": [
       "[[11, 14, 17, 20, 23], [23, 30, 37, 44, 51]]"
      ]
     },
     "execution_count": 2,
     "metadata": {},
     "output_type": "execute_result"
    }
   ],
   "source": [
    "def matrix_mul(A,B):\n",
    "\n",
    "    r=[]\n",
    "\n",
    "    for i in range(len(A)):\n",
    "        z=[]\n",
    "        for j in range(len(B[0])):\n",
    "            a=0 ; k=0\n",
    "            for e in range(len(B)):\n",
    "                k+= A[i][a]*B[e][j]\n",
    "                a+=1\n",
    "            z.append(k)\n",
    "        r.append(z)\n",
    "        \n",
    "    return r\n",
    "\n",
    "A   = [[1 ,2], [3, 4]]\n",
    "B   = [[1, 2 ,3 ,4, 5], [5,6 ,7 ,8, 9]]\n",
    "\n",
    "matrix_mul(A,B)"
   ]
  },
  {
   "cell_type": "markdown",
   "metadata": {
    "colab_type": "text",
    "id": "at4VwLggB-kn"
   },
   "source": [
    "<h3> Q2: Proportional Sampling - Select a number randomly with probability proportional to its magnitude from the given array of n elements</h3>\n",
    "\n",
    "Consider an experiment, selecting an element from the list A randomly with probability proportional to its magnitude.\n",
    "assume we are doing the same experiment for 100 times with replacement, in each experiment you will print a number that is selected randomly from A.\n",
    "\n",
    "<pre>\n",
    "Ex 1: A = [0 5 27 6 13 28 100 45 10 79]\n",
    "let f(x) denote the number of times x getting selected in 100 experiments.\n",
    "f(100) > f(79) > f(45) > f(28) > f(27) > f(13) > f(10) > f(6) > f(5) > f(0)\n",
    "</pre>"
   ]
  },
  {
   "cell_type": "code",
   "execution_count": 3,
   "metadata": {},
   "outputs": [
    {
     "name": "stdout",
     "output_type": "stream",
     "text": [
      "Number: 0, Frequency: 0\n",
      "Number: 5, Frequency: 10\n",
      "Number: 6, Frequency: 25\n",
      "Number: 10, Frequency: 40\n",
      "Number: 13, Frequency: 41\n",
      "Number: 27, Frequency: 109\n",
      "Number: 28, Frequency: 86\n",
      "Number: 45, Frequency: 142\n",
      "Number: 79, Frequency: 233\n",
      "Number: 100, Frequency: 314\n"
     ]
    }
   ],
   "source": [
    "import random\n",
    "\n",
    "def propotional_sampling(a):\n",
    "    #cummulative\n",
    "    A = [i/sum(a) for i in a]\n",
    "\n",
    "    k=[]\n",
    "    k.append(A[0])\n",
    "    for i in range(1,len(A)):\n",
    "        k.append(k[i-1]+A[i])\n",
    "    \n",
    "    r = random.random()\n",
    "    for itr in range(len(k)) :\n",
    "        if r < k[itr] :\n",
    "            return a[itr]\n",
    "\n",
    "a = [0 ,5, 27, 6, 13, 28, 100, 45 ,10 ,79]\n",
    "\n",
    "sampled_elements = []\n",
    "for itr in range(1000) :\n",
    "    sampled_elements.append(propotional_sampling(a))\n",
    "    \n",
    "a=sorted(a)\n",
    "for i in a:\n",
    "    print('Number: {}, Frequency: {}'.format(i , sampled_elements.count(i)))"
   ]
  },
  {
   "cell_type": "markdown",
   "metadata": {
    "colab_type": "text",
    "id": "D1xQy2WWB-kq"
   },
   "source": [
    "<h3> Q3: Replace the digits in the string with #</h3>\n",
    "\n",
    "consider a string that will have digits in that, we need to remove all the not digits and replace the digits with #\n",
    "<pre>\n",
    "Ex 1: A = 234                Output: ###\n",
    "Ex 2: A = a2b3c4             Output: ###\n",
    "Ex 3: A = abc                Output:   (empty string)\n",
    "Ex 5: A = #2a$#b%c%561#      Output: ####\n",
    "</pre>"
   ]
  },
  {
   "cell_type": "code",
   "execution_count": 4,
   "metadata": {},
   "outputs": [
    {
     "data": {
      "text/plain": [
       "'####'"
      ]
     },
     "execution_count": 4,
     "metadata": {},
     "output_type": "execute_result"
    }
   ],
   "source": [
    "def replace_digits(String):\n",
    "    output=''\n",
    "    for i in String:\n",
    "        if ord(i) > 47     and ord(i)< 58 :\n",
    "            output+='#'\n",
    "            \n",
    "    return output\n",
    "\n",
    "\n",
    "string='#2a$#b%c%561#'\n",
    "replace_digits(string)\n"
   ]
  },
  {
   "cell_type": "markdown",
   "metadata": {
    "colab_type": "text",
    "id": "j7h0Ywg7B-kw"
   },
   "source": [
    "<h3> Q4: Students marks dashboard</h3>\n",
    "\n",
    "consider the marks list of class students given two lists <br>\n",
    "Students = ['student1','student2','student3','student4','student5','student6','student7','student8','student9','student10'] <br>\n",
    "Marks = [45, 78, 12, 14, 48, 43, 45, 98, 22, 80] <br>\n",
    "from the above two lists the Student[0] got Marks[0],  Student[1] got Marks[1] and so on <br><br>\n",
    "your task is to print the name of students\n",
    "<strong>a. Who got top 5 ranks, in the descending order of marks</strong> <br>\n",
    "<strong>b. Who got least 5 ranks, in the increasing order of marks</strong><br>\n",
    "<strong>d. Who got marks between  &gt;25th percentile &lt;75th percentile, in the increasing order of marks</strong>\n",
    "\n",
    "<pre>\n",
    "Ex 1: \n",
    "Students=['student1','student2','student3','student4','student5','student6','student7','student8','student9','student10'] \n",
    "Marks = [45, 78, 12, 14, 48, 43, 47, 98, 22, 80]\n",
    "a. \n",
    "student8  98\n",
    "student10 80\n",
    "student2  78\n",
    "student5  48\n",
    "student7  47\n",
    "b.\n",
    "student3 12\n",
    "student4 14\n",
    "student9 22\n",
    "student6 43\n",
    "student1 45\n",
    "c.\n",
    "student9 22\n",
    "student6 43\n",
    "student1 45\n",
    "student7 47\n",
    "student5 48\n",
    "</pre>"
   ]
  },
  {
   "cell_type": "code",
   "execution_count": 5,
   "metadata": {},
   "outputs": [
    {
     "name": "stdout",
     "output_type": "stream",
     "text": [
      "student10 = 98\n",
      "student9 = 80\n",
      "student8 = 78\n",
      "student7 = 48\n",
      "student6 = 47\n",
      "-----------------------------------------------------------------------------------------------------------------------------\n",
      "student1 = 12\n",
      "student2 = 14\n",
      "student3 = 22\n",
      "student4 = 43\n",
      "student5 = 45\n",
      "-----------------------------------------------------------------------------------------------------------------------------\n",
      "student6 = 43\n",
      "student1 = 45\n",
      "student7 = 47\n",
      "student5 = 48\n"
     ]
    }
   ],
   "source": [
    "import math\n",
    "\n",
    "def display_dash_board(students, marks):\n",
    "    sorted_=sorted(Marks)\n",
    "    for i in range(-1,-6,-1):\n",
    "        print(Students[i],'=', sorted_[i])\n",
    "    print('-'*125)    \n",
    "    for i in range(0,5,1):\n",
    "         print(Students[i],'=', sorted_[i])\n",
    "    print('-'*125)\n",
    "\n",
    "    dict_=dict()\n",
    "    c=0\n",
    "    for i in Students:\n",
    "        dict_[Marks[c]]=i\n",
    "        c+=1\n",
    "    \n",
    "    for j in sorted(dict_):\n",
    "        percentile =(j*100)/100\n",
    "        if 25<percentile<75:\n",
    "            print(dict_[j],'=', j)\n",
    "            #print(sorted_)\n",
    "            \n",
    "\n",
    "        \n",
    "Students=['student1','student2','student3','student4','student5','student6','student7','student8','student9','student10'] \n",
    "Marks = [45, 78, 12, 14, 48, 43, 47, 98, 22, 80]\n",
    "\n",
    "display_dash_board(Students, Marks)"
   ]
  },
  {
   "cell_type": "markdown",
   "metadata": {
    "colab_type": "text",
    "id": "qha0OhQHB-k1"
   },
   "source": [
    "<h3> Q5: Find the closest points</h3>\n",
    "\n",
    "Consider you have given n data points in the form of list of tuples like S=[(x1,y1),(x2,y2),(x3,y3),(x4,y4),(x5,y5),..,(xn,yn)] and a point P=(p,q) <br> Your task is to find 5 closest points(based on cosine distance) in S from P\n",
    "<br>Cosine distance between two points (x,y) and (p,q) is defind as $cos^{-1}(\\frac{(x\\cdot p+y\\cdot q)}{\\sqrt(x^2+y^2)\\cdot\\sqrt(p^2+q^2)})$\n",
    "<pre>\n",
    "Ex:\n",
    "\n",
    "S= [(1,2),(3,4),(-1,1),(6,-7),(0, 6),(-5,-8),(-1,-1),(6,0),(1,-1)]\n",
    "P= (3,-4)\n",
    "\n",
    "<img src='https://i.imgur.com/vyZZQGu.png' width=400>\n",
    "\n",
    "Output:\n",
    "(6,-7)\n",
    "(1,-1)\n",
    "(6,0)\n",
    "(-5,-8)\n",
    "(-1,-1)\n",
    "</pre>\n",
    " Hint - If you write the formula correctly you'll get the distance between points (6,-7) and (3,-4) = 0.065"
   ]
  },
  {
   "cell_type": "code",
   "execution_count": 6,
   "metadata": {},
   "outputs": [
    {
     "name": "stdout",
     "output_type": "stream",
     "text": [
      "(6, -7)\n",
      "(1, -1)\n",
      "(6, 0)\n",
      "(-5, -8)\n",
      "(-1, -1)\n"
     ]
    }
   ],
   "source": [
    "import math\n",
    "\n",
    "def closest_points_to_p(S,P):\n",
    "    o=[]\n",
    "    for i in S:\n",
    "        x=i[0]\n",
    "        y=i[1]\n",
    "        p=P[0]\n",
    "        q=P[1]\n",
    "        \n",
    "        num=((x*p)+(y*q))\n",
    "        den=np.sqrt((x**2)+(y**2)) * np.sqrt((p**2)+(q**2))\n",
    "        r= num/den\n",
    "        \n",
    "        o.append((round(math.acos(r),3),i))\n",
    "        \n",
    "    o=sorted(o)\n",
    "    for i in range(5):\n",
    "        print(o[i][1])\n",
    "        \n",
    "\n",
    "S= [(1,2),(3,4),(-1,1),(6,-7),(0, 6),(-5,-8),(-1,-1),(6,0),(1,-1)]\n",
    "P= (3,-4)\n",
    "\n",
    "closest_points_to_p(S,P)"
   ]
  },
  {
   "cell_type": "markdown",
   "metadata": {
    "colab_type": "text",
    "id": "-g11jeAiB-k5"
   },
   "source": [
    "<h3> Q6: Find Which line separates oranges and apples</h3>\n",
    "consider you have given two set of data points in the form of list of tuples like \n",
    "<pre>\n",
    "Red =[(R11,R12),(R21,R22),(R31,R32),(R41,R42),(R51,R52),..,(Rn1,Rn2)]\n",
    "Blue=[(B11,B12),(B21,B22),(B31,B32),(B41,B42),(B51,B52),..,(Bm1,Bm2)]\n",
    "</pre>\n",
    "and set of line equations(in the string formate, i.e list of strings)\n",
    "<pre>\n",
    "Lines = [a1x+b1y+c1,a2x+b2y+c2,a3x+b3y+c3,a4x+b4y+c4,..,K lines]\n",
    "Note: you need to string parsing here and get the coefficients of x,y and intercept\n",
    "</pre>\n",
    "your task is to for each line that is given print \"YES\"/\"NO\", you will print yes, if all the red points are one side of the line and blue points are other side of the line, otherwise no\n",
    "<pre>\n",
    "Ex:\n",
    "Red= [(1,1),(2,1),(4,2),(2,4), (-1,4)]\n",
    "Blue= [(-2,-1),(-1,-2),(-3,-2),(-3,-1),(1,-3)]\n",
    "Lines=[\"1x+1y+0\",\"1x-1y+0\",\"1x+0y-3\",\"0x+1y-0.5\"]\n",
    "<img src='https://i.imgur.com/mSnQW5K.png' width=400>\n",
    "\n",
    "Output:\n",
    "YES\n",
    "NO\n",
    "NO\n",
    "YES\n",
    "</pre>"
   ]
  },
  {
   "cell_type": "code",
   "execution_count": 7,
   "metadata": {},
   "outputs": [
    {
     "name": "stdout",
     "output_type": "stream",
     "text": [
      "YES\n",
      "NO\n",
      "NO\n",
      "YES\n"
     ]
    }
   ],
   "source": [
    "import re\n",
    "\n",
    "def i_am_the_one(Red,Blue,Lines):\n",
    "    \n",
    "    red = []\n",
    "    blue= []\n",
    "    final_red = []\n",
    "    final_blue = []\n",
    "    \n",
    "    for line in Lines:\n",
    "        a, b, c = [float(x.strip()) for x in re.split('x|y', line)]\n",
    "        R=[]\n",
    "        B=[]\n",
    "        for i in range(len(Red)):\n",
    "            r = ((a*Red[i][0])+(b*Red[i][1])+c)\n",
    "            R.append(r)\n",
    "        red.append(R)\n",
    "        for _ in range(len(Blue)):\n",
    "            z = ((a*Blue[_][0])+ (b*Blue[_][1])+ c)\n",
    "            B.append(z)\n",
    "        blue.append(B)\n",
    "    \n",
    "    for i in range(len(Lines)):\n",
    "        Red=True\n",
    "        Blue=True\n",
    "        r=list(filter(lambda i: i>=0,red[i]))\n",
    "        b=list(filter(lambda i: i<0, blue[i]))\n",
    "    \n",
    "        if len(r) == len(b) and len(r)==0 or len(r) == len(red[i]):\n",
    "            print('YES')\n",
    "        else:\n",
    "            print('NO')\n",
    "            \n",
    "Red= [(1,1),(2,1),(4,2),(2,4), (-1,4)]\n",
    "Blue= [(-2,-1),(-1,-2),(-3,-2),(-3,-1),(1,-3)]\n",
    "Lines=[\"1x+1y+0\",\"1x-1y+0\",\"1x+0y-3\",\"0x+1y-0.5\"]\n",
    "\n",
    "i_am_the_one(Red,Blue,Lines)"
   ]
  },
  {
   "cell_type": "markdown",
   "metadata": {
    "colab_type": "text",
    "id": "9OBpURbNB-k9"
   },
   "source": [
    "<h3> Q7: Filling the missing values in the specified formate</h3>\n",
    "You will be given a string with digits and '\\_'(missing value) symbols you have to replace the '\\_' symbols as explained \n",
    "<pre>\n",
    "Ex 1: _, _, _, 24 ==> 24/4, 24/4, 24/4, 24/4 i.e we. have distributed the 24 equally to all 4 places <br>\n",
    "Ex 2: 40, _, _, _, 60 ==> (60+40)/5,(60+40)/5,(60+40)/5,(60+40)/5,(60+40)/5 ==> 20, 20, 20, 20, 20 i.e. the sum of (60+40) is distributed qually to all 5 places<br>\n",
    "Ex 3: 80, _, _, _, _  ==> 80/5,80/5,80/5,80/5,80/5 ==> 16, 16, 16, 16, 16 i.e. the 80 is distributed qually to all 5 missing values that are right to it<br>\n",
    "Ex 4: _, _, 30, _, _, _, 50, _, _  \n",
    "==> we will fill the missing values from left to right \n",
    "    a. first we will distribute the 30 to left two missing values (10, 10, 10, _, _, _, 50, _, _)\n",
    "    b. now distribute the sum (10+50) missing values in between (10, 10, 12, 12, 12, 12, 12, _, _) \n",
    "    c. now we will distribute 12 to right side missing values (10, 10, 12, 12, 12, 12, 4, 4, 4)\n",
    "</pre>\n",
    "for a given string with comma seprate values, which will have both missing values numbers like ex: \"_, _, x, _, _, _\"\n",
    "you need fill the missing values\n",
    "\n",
    "Q: your program reads a string like ex: \"_, _, x, _, _, _\" and returns the filled sequence\n",
    "\n",
    "Ex: \n",
    "<pre>\n",
    "Input1: \"_,_,_,24\"\n",
    "Output1: 6,6,6,6\n",
    "\n",
    "Input2: \"40,_,_,_,60\"\n",
    "Output2: 20,20,20,20,20\n",
    "\n",
    "Input3: \"80,_,_,_,_\"\n",
    "Output3: 16,16,16,16,16\n",
    "\n",
    "Input4: \"_,_,30,_,_,_,50,_,_\"\n",
    "Output4: 10,10,12,12,12,12,4,4,4\n",
    "\n",
    "</pre>\n",
    "\n"
   ]
  },
  {
   "cell_type": "code",
   "execution_count": 8,
   "metadata": {},
   "outputs": [
    {
     "name": "stdout",
     "output_type": "stream",
     "text": [
      "_,_,30,_,_,_,50,_,_\n"
     ]
    },
    {
     "data": {
      "text/plain": [
       "'10,10,12,12,12,12,4,4,4'"
      ]
     },
     "execution_count": 8,
     "metadata": {},
     "output_type": "execute_result"
    }
   ],
   "source": [
    "def curve_smoothing(string):\n",
    "#splitted given string by comma and saved it in varable s\n",
    "    s=\"_,_,30,_,_,_,50,_,_\".split(',')\n",
    "\n",
    "    d=0\n",
    "    for i in range(len(s)):\n",
    "        c=False\n",
    "        if s[i]!= '_' and s[d]!='_' and i!=0:\n",
    "            k= (int(s[i])+int(s[d])) / ((i-d)+1)\n",
    "            c=True\n",
    "        elif s[i]!='_' and s[d]=='_':\n",
    "            k = (int(s[i]))/((i-d)+1)\n",
    "            c=True\n",
    "        \n",
    "        elif i==len(s)-1 and s[i]=='_':\n",
    "            k= (int(s[d])) / ((i-d)+1)\n",
    "            c=True\n",
    "\n",
    "        if c:\n",
    "            for j in range(d,i+1):\n",
    "                s[j] = str(round(k))\n",
    "            \n",
    "            d=i\n",
    "        \n",
    "    return (',').join(s)\n",
    "\n",
    "string= \"_,_,30,_,_,_,50,_,_\"\n",
    "\n",
    "print(string)\n",
    "curve_smoothing(string)"
   ]
  },
  {
   "cell_type": "markdown",
   "metadata": {
    "colab_type": "text",
    "id": "RBz4pzlfB-lB"
   },
   "source": [
    "<h3> Q8: Filling the missing values in the specified formate</h3>\n",
    "You will be given a list of lists, each sublist will be of length 2 i.e. [[x,y],[p,q],[l,m]..[r,s]]\n",
    "consider its like a martrix of n rows and two columns\n",
    "1. the first column F will contain only 5 uniques values (F1, F2, F3, F4, F5)\n",
    "2. the second column S will contain only 3 uniques values (S1, S2, S3)\n",
    "<pre>\n",
    "your task is to find\n",
    "a. Probability of P(F=F1|S==S1), P(F=F1|S==S2), P(F=F1|S==S3)\n",
    "b. Probability of P(F=F2|S==S1), P(F=F2|S==S2), P(F=F2|S==S3)\n",
    "c. Probability of P(F=F3|S==S1), P(F=F3|S==S2), P(F=F3|S==S3)\n",
    "d. Probability of P(F=F4|S==S1), P(F=F4|S==S2), P(F=F4|S==S3)\n",
    "e. Probability of P(F=F5|S==S1), P(F=F5|S==S2), P(F=F5|S==S3)\n",
    "</pre>\n",
    "Ex:\n",
    "\n",
    "<pre>\n",
    "[[F1,S1],[F2,S2],[F3,S3],[F1,S2],[F2,S3],[F3,S2],[F2,S1],[F4,S1],[F4,S3],[F5,S1]]\n",
    "\n",
    "a. P(F=F1|S==S1)=1/4, P(F=F1|S==S2)=1/3, P(F=F1|S==S3)=0/3\n",
    "b. P(F=F2|S==S1)=1/4, P(F=F2|S==S2)=1/3, P(F=F2|S==S3)=1/3\n",
    "c. P(F=F3|S==S1)=0/4, P(F=F3|S==S2)=1/3, P(F=F3|S==S3)=1/3\n",
    "d. P(F=F4|S==S1)=1/4, P(F=F4|S==S2)=0/3, P(F=F4|S==S3)=1/3\n",
    "e. P(F=F5|S==S1)=1/4, P(F=F5|S==S2)=0/3, P(F=F5|S==S3)=0/3\n",
    "</pre>\n",
    "\n",
    "\n"
   ]
  },
  {
   "cell_type": "code",
   "execution_count": 9,
   "metadata": {},
   "outputs": [],
   "source": [
    "def compute_conditional_probabilites(A):\n",
    "    dict_S=dict()\n",
    "    dict_F=dict()\n",
    "    for i in range(len(A)):\n",
    "        if A[i][1] in dict_S:\n",
    "            dict_S[A[i][1]] += 1\n",
    "        else:\n",
    "            dict_S[A[i][1]] = 1\n",
    "        \n",
    "    for i in range(len(A)):\n",
    "        if A[i][0] in dict_F:\n",
    "            dict_F[A[i][0]] += 1\n",
    "        else:\n",
    "            dict_F[A[i][0]] = 1\n",
    "    c=dict()        \n",
    "    for i in dict_S:\n",
    "        for j in dict_F:\n",
    "            r=False\n",
    "            for k in range(len(A)):\n",
    "                if [j,i] == A[k]:\n",
    "                    if j+i in c:\n",
    "                        c[j+i] +=1\n",
    "                    else:\n",
    "                        c[j+i] = 1\n",
    "                        r=True\n",
    "                    \n",
    "            if r == False:\n",
    "                c[j+i]=0\n",
    "                    \n",
    "                    \n",
    "    print('P(F=F1|S==S1)=',c['F1S1'],'/',dict_S['S1'],', P(F=F1|S==S2)=', c['F1S2'],'/',dict_S['S2'],', P(F=F1|S==S3)=',c['F1S3'],'/',dict_S['S3'])\n",
    "    print('P(F=F2|S==S1)=',c['F2S1'],'/',dict_S['S1'],', P(F=F2|S==S2)=', c['F2S2'],'/',dict_S['S2'],', P(F=F2|S==S3)=',c['F2S3'],'/',dict_S['S3'])\n",
    "    print('P(F=F3|S==S1)=',c['F3S1'],'/',dict_S['S1'],', P(F=F3|S==S2)=', c['F3S2'],'/',dict_S['S2'],', P(F=F3|S==S3)=',c['F3S3'],'/',dict_S['S3'])\n",
    "    print('P(F=F4|S==S1)=',c['F4S1'],'/',dict_S['S1'],', P(F=F4|S==S2)=', c['F4S2'],'/',dict_S['S2'],', P(F=F4|S==S3)=',c['F4S3'],'/',dict_S['S3'])\n",
    "    print('P(F=F5|S==S1)=',c['F5S1'],'/',dict_S['S1'],', P(F=F5|S==S2)=', c['F5S2'],'/',dict_S['S2'],', P(F=F5|S==S3)=',c['F5S3'],'/',dict_S['S3'])\n",
    " "
   ]
  },
  {
   "cell_type": "code",
   "execution_count": 10,
   "metadata": {},
   "outputs": [
    {
     "name": "stdout",
     "output_type": "stream",
     "text": [
      "P(F=F1|S==S1)= 1 / 4 , P(F=F1|S==S2)= 1 / 3 , P(F=F1|S==S3)= 0 / 3\n",
      "P(F=F2|S==S1)= 1 / 4 , P(F=F2|S==S2)= 1 / 3 , P(F=F2|S==S3)= 1 / 3\n",
      "P(F=F3|S==S1)= 0 / 4 , P(F=F3|S==S2)= 1 / 3 , P(F=F3|S==S3)= 1 / 3\n",
      "P(F=F4|S==S1)= 1 / 4 , P(F=F4|S==S2)= 0 / 3 , P(F=F4|S==S3)= 1 / 3\n",
      "P(F=F5|S==S1)= 1 / 4 , P(F=F5|S==S2)= 0 / 3 , P(F=F5|S==S3)= 0 / 3\n"
     ]
    }
   ],
   "source": [
    "A = [['F1','S1'],['F2','S2'],['F3','S3'],['F1','S2'],['F2','S3'],['F3','S2'],['F2','S1'],['F4','S1'],['F4','S3'],['F5','S1']]\n",
    "compute_conditional_probabilites(A)"
   ]
  },
  {
   "cell_type": "markdown",
   "metadata": {
    "colab_type": "text",
    "id": "n4HS87QmB-lF"
   },
   "source": [
    "<h3> Q9: Given two sentances S1, S2</h3>\n",
    "You will be given two sentances S1, S2 your task is to find \n",
    "<pre>\n",
    "a. Number of common words between S1, S2\n",
    "b. Words in S1 but not in S2\n",
    "c. Words in S2 but not in S1\n",
    "</pre>\n",
    "\n",
    "Ex: \n",
    "<pre>\n",
    "S1= \"the first column F will contain only 5 uniques values\"\n",
    "S2= \"the second column S will contain only 3 uniques values\"\n",
    "Output:\n",
    "a. 7\n",
    "b. ['first','F','5']\n",
    "c. ['second','S','3']\n",
    "</pre>"
   ]
  },
  {
   "cell_type": "code",
   "execution_count": 11,
   "metadata": {},
   "outputs": [
    {
     "name": "stdout",
     "output_type": "stream",
     "text": [
      "Number of common words:  7\n",
      "Words in S1 but not in S2 are:  ['first', 'F', '5']\n",
      "Words in S2 but not in S1 are:  ['second', 'S', '3']\n"
     ]
    }
   ],
   "source": [
    "def string_features(S1, S2):\n",
    "    S1=S1.split()\n",
    "    S2=S2.split()\n",
    "    count=0\n",
    "    common_words=[]\n",
    "    for i in range(len(S1)):\n",
    "        if S1[i] not in common_words:\n",
    "            for j in range(len(S2)):\n",
    "                if S1[i]==S2[j] and S1[i]:\n",
    "                    count+=1\n",
    "                    common_words.append(S1[i])\n",
    "    words_S1=[]\n",
    "    for i in range(len(S1)):\n",
    "        if S1[i] not in common_words:\n",
    "            words_S1.append(S1[i])\n",
    "            \n",
    "    words_S2=[]\n",
    "    for i in range(len(S2)):\n",
    "        if S2[i] not in common_words:\n",
    "            words_S2.append(S2[i])\n",
    "            \n",
    "    print('Number of common words: ', count)\n",
    "    print('Words in S1 but not in S2 are: ',words_S1)\n",
    "    print('Words in S2 but not in S1 are: ',words_S2)\n",
    "    \n",
    "S1= \"the first column F will contain only 5 uniques values\"\n",
    "S2= \"the second column S will contain only 3 uniques values\"\n",
    "\n",
    "string_features(S1, S2)\n",
    "            "
   ]
  },
  {
   "cell_type": "markdown",
   "metadata": {
    "colab_type": "text",
    "id": "XefXVEjCB-lI"
   },
   "source": [
    "<h3> Q10: Given two sentances S1, S2</h3>\n",
    "You will be given a list of lists, each sublist will be of length 2 i.e. [[x,y],[p,q],[l,m]..[r,s]]\n",
    "consider its like a martrix of n rows and two columns\n",
    "\n",
    "a. the first column Y will contain interger values <br>\n",
    "b. the second column $Y_{score}$ will be having float values <br>\n",
    "Your task is to find the value of $f(Y,Y_{score}) = -1*\\frac{1}{n}\\Sigma_{for each Y,Y_{score} pair}(Ylog10(Y_{score})+(1-Y)log10(1-Y_{score}))$ here n is the number of rows in the matrix\n",
    "<pre>\n",
    "Ex:\n",
    "[[1, 0.4], [0, 0.5], [0, 0.9], [0, 0.3], [0, 0.6], [1, 0.1], [1, 0.9], [1, 0.8]]\n",
    "output:\n",
    "0.4243099\n",
    "</pre>\n",
    "$\\frac{-1}{8}\\cdot((1\\cdot log_{10}(0.4)+0\\cdot log_{10}(0.6))+(0\\cdot log_{10}(0.5)+1\\cdot log_{10}(0.5)) + ... + (1\\cdot log_{10}(0.8)+0\\cdot log_{10}(0.2)) )$"
   ]
  },
  {
   "cell_type": "code",
   "execution_count": 12,
   "metadata": {},
   "outputs": [
    {
     "name": "stdout",
     "output_type": "stream",
     "text": [
      "0.4243099\n"
     ]
    }
   ],
   "source": [
    "import math\n",
    "\n",
    "def compute_log_loss(A):\n",
    "    # n = number of rows in the matrix\n",
    "    # creating a variable loss to sum the loss of each row\n",
    "    n=len(A)\n",
    "    loss=0\n",
    "    for i in range(len(A)):\n",
    "        y=A[i][0]\n",
    "        y_score=A[i][1]\n",
    "        loss += (y*math.log10(y_score)) + (1-y)* (math.log10(1-y_score))\n",
    "    loss = round((-1/8)*loss,7)\n",
    "    return loss\n",
    "\n",
    "A = [[1, 0.4], [0, 0.5], [0, 0.9], [0, 0.3], [0, 0.6], [1, 0.1], [1, 0.9], [1, 0.8]]\n",
    "loss = compute_log_loss(A)\n",
    "print(loss)"
   ]
  }
 ],
 "metadata": {
  "colab": {
   "collapsed_sections": [],
   "name": "1.Python Assignment.ipynb",
   "provenance": []
  },
  "kernelspec": {
   "display_name": "Python 3",
   "language": "python",
   "name": "python3"
  },
  "language_info": {
   "codemirror_mode": {
    "name": "ipython",
    "version": 3
   },
   "file_extension": ".py",
   "mimetype": "text/x-python",
   "name": "python",
   "nbconvert_exporter": "python",
   "pygments_lexer": "ipython3",
   "version": "3.8.8"
  }
 },
 "nbformat": 4,
 "nbformat_minor": 1
}
